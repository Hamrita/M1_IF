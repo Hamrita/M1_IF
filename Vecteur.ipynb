{
 "cells": [
  {
   "cell_type": "markdown",
   "metadata": {},
   "source": [
    "# Les vecteurs"
   ]
  },
  {
   "cell_type": "markdown",
   "metadata": {},
   "source": [
    "## Création d'un vecteur\n",
    "Pour créer un vecteur, la façon la plus simple est utiliser la fonction **`c()`**."
   ]
  },
  {
   "cell_type": "code",
   "execution_count": 6,
   "metadata": {},
   "outputs": [
    {
     "data": {
      "text/html": [
       "<ol class=list-inline>\n",
       "\t<li>1</li>\n",
       "\t<li>4</li>\n",
       "\t<li>5</li>\n",
       "</ol>\n"
      ],
      "text/latex": [
       "\\begin{enumerate*}\n",
       "\\item 1\n",
       "\\item 4\n",
       "\\item 5\n",
       "\\end{enumerate*}\n"
      ],
      "text/markdown": [
       "1. 1\n",
       "2. 4\n",
       "3. 5\n",
       "\n",
       "\n"
      ],
      "text/plain": [
       "[1] 1 4 5"
      ]
     },
     "metadata": {},
     "output_type": "display_data"
    }
   ],
   "source": [
    "# Exemple x=[1 4 5]\n",
    "x=c(1,4,5)\n",
    "x"
   ]
  },
  {
   "cell_type": "markdown",
   "metadata": {},
   "source": [
    "Pour créer une série régulière, `R` propose les fonctions `:`, `seq()` et la fonction `rep()`."
   ]
  },
  {
   "cell_type": "code",
   "execution_count": 1,
   "metadata": {},
   "outputs": [
    {
     "data": {
      "text/html": [
       "<ol class=list-inline>\n",
       "\t<li>1</li>\n",
       "\t<li>2</li>\n",
       "\t<li>3</li>\n",
       "\t<li>4</li>\n",
       "\t<li>5</li>\n",
       "\t<li>6</li>\n",
       "\t<li>7</li>\n",
       "\t<li>8</li>\n",
       "\t<li>9</li>\n",
       "\t<li>10</li>\n",
       "</ol>\n"
      ],
      "text/latex": [
       "\\begin{enumerate*}\n",
       "\\item 1\n",
       "\\item 2\n",
       "\\item 3\n",
       "\\item 4\n",
       "\\item 5\n",
       "\\item 6\n",
       "\\item 7\n",
       "\\item 8\n",
       "\\item 9\n",
       "\\item 10\n",
       "\\end{enumerate*}\n"
      ],
      "text/markdown": [
       "1. 1\n",
       "2. 2\n",
       "3. 3\n",
       "4. 4\n",
       "5. 5\n",
       "6. 6\n",
       "7. 7\n",
       "8. 8\n",
       "9. 9\n",
       "10. 10\n",
       "\n",
       "\n"
      ],
      "text/plain": [
       " [1]  1  2  3  4  5  6  7  8  9 10"
      ]
     },
     "metadata": {},
     "output_type": "display_data"
    }
   ],
   "source": [
    "# exemple série de 1 à 10\n",
    "1:10"
   ]
  },
  {
   "cell_type": "code",
   "execution_count": 3,
   "metadata": {},
   "outputs": [
    {
     "data": {
      "text/html": [
       "<ol class=list-inline>\n",
       "\t<li>20</li>\n",
       "\t<li>19</li>\n",
       "\t<li>18</li>\n",
       "\t<li>17</li>\n",
       "\t<li>16</li>\n",
       "\t<li>15</li>\n",
       "\t<li>14</li>\n",
       "\t<li>13</li>\n",
       "\t<li>12</li>\n",
       "\t<li>11</li>\n",
       "\t<li>10</li>\n",
       "\t<li>9</li>\n",
       "\t<li>8</li>\n",
       "\t<li>7</li>\n",
       "\t<li>6</li>\n",
       "\t<li>5</li>\n",
       "\t<li>4</li>\n",
       "\t<li>3</li>\n",
       "\t<li>2</li>\n",
       "</ol>\n"
      ],
      "text/latex": [
       "\\begin{enumerate*}\n",
       "\\item 20\n",
       "\\item 19\n",
       "\\item 18\n",
       "\\item 17\n",
       "\\item 16\n",
       "\\item 15\n",
       "\\item 14\n",
       "\\item 13\n",
       "\\item 12\n",
       "\\item 11\n",
       "\\item 10\n",
       "\\item 9\n",
       "\\item 8\n",
       "\\item 7\n",
       "\\item 6\n",
       "\\item 5\n",
       "\\item 4\n",
       "\\item 3\n",
       "\\item 2\n",
       "\\end{enumerate*}\n"
      ],
      "text/markdown": [
       "1. 20\n",
       "2. 19\n",
       "3. 18\n",
       "4. 17\n",
       "5. 16\n",
       "6. 15\n",
       "7. 14\n",
       "8. 13\n",
       "9. 12\n",
       "10. 11\n",
       "11. 10\n",
       "12. 9\n",
       "13. 8\n",
       "14. 7\n",
       "15. 6\n",
       "16. 5\n",
       "17. 4\n",
       "18. 3\n",
       "19. 2\n",
       "\n",
       "\n"
      ],
      "text/plain": [
       " [1] 20 19 18 17 16 15 14 13 12 11 10  9  8  7  6  5  4  3  2"
      ]
     },
     "metadata": {},
     "output_type": "display_data"
    }
   ],
   "source": [
    "# série de 20 à 2\n",
    "20:2"
   ]
  },
  {
   "cell_type": "code",
   "execution_count": 3,
   "metadata": {},
   "outputs": [
    {
     "data": {
      "text/html": [
       "<ol class=list-inline>\n",
       "\t<li>1.2</li>\n",
       "\t<li>2.2</li>\n",
       "\t<li>3.2</li>\n",
       "\t<li>4.2</li>\n",
       "\t<li>5.2</li>\n",
       "</ol>\n"
      ],
      "text/latex": [
       "\\begin{enumerate*}\n",
       "\\item 1.2\n",
       "\\item 2.2\n",
       "\\item 3.2\n",
       "\\item 4.2\n",
       "\\item 5.2\n",
       "\\end{enumerate*}\n"
      ],
      "text/markdown": [
       "1. 1.2\n",
       "2. 2.2\n",
       "3. 3.2\n",
       "4. 4.2\n",
       "5. 5.2\n",
       "\n",
       "\n"
      ],
      "text/plain": [
       "[1] 1.2 2.2 3.2 4.2 5.2"
      ]
     },
     "metadata": {},
     "output_type": "display_data"
    }
   ],
   "source": [
    "1.2:5.7  "
   ]
  },
  {
   "cell_type": "code",
   "execution_count": 4,
   "metadata": {},
   "outputs": [
    {
     "data": {
      "text/html": [
       "<ol class=list-inline>\n",
       "\t<li>1</li>\n",
       "\t<li>2</li>\n",
       "\t<li>3</li>\n",
       "\t<li>4</li>\n",
       "\t<li>5</li>\n",
       "\t<li>6</li>\n",
       "\t<li>7</li>\n",
       "\t<li>8</li>\n",
       "\t<li>9</li>\n",
       "\t<li>10</li>\n",
       "</ol>\n"
      ],
      "text/latex": [
       "\\begin{enumerate*}\n",
       "\\item 1\n",
       "\\item 2\n",
       "\\item 3\n",
       "\\item 4\n",
       "\\item 5\n",
       "\\item 6\n",
       "\\item 7\n",
       "\\item 8\n",
       "\\item 9\n",
       "\\item 10\n",
       "\\end{enumerate*}\n"
      ],
      "text/markdown": [
       "1. 1\n",
       "2. 2\n",
       "3. 3\n",
       "4. 4\n",
       "5. 5\n",
       "6. 6\n",
       "7. 7\n",
       "8. 8\n",
       "9. 9\n",
       "10. 10\n",
       "\n",
       "\n"
      ],
      "text/plain": [
       " [1]  1  2  3  4  5  6  7  8  9 10"
      ]
     },
     "metadata": {},
     "output_type": "display_data"
    }
   ],
   "source": [
    "# générer une séquence à l'aide de la fonction `seq()`\n",
    "# taper `?seq` pour consulter l'aide de la fonction\n",
    "seq(from=1,to=10)"
   ]
  },
  {
   "cell_type": "code",
   "execution_count": 7,
   "metadata": {},
   "outputs": [
    {
     "data": {
      "text/html": [
       "<ol class=list-inline>\n",
       "\t<li>1</li>\n",
       "\t<li>1.5</li>\n",
       "\t<li>2</li>\n",
       "\t<li>2.5</li>\n",
       "\t<li>3</li>\n",
       "</ol>\n"
      ],
      "text/latex": [
       "\\begin{enumerate*}\n",
       "\\item 1\n",
       "\\item 1.5\n",
       "\\item 2\n",
       "\\item 2.5\n",
       "\\item 3\n",
       "\\end{enumerate*}\n"
      ],
      "text/markdown": [
       "1. 1\n",
       "2. 1.5\n",
       "3. 2\n",
       "4. 2.5\n",
       "5. 3\n",
       "\n",
       "\n"
      ],
      "text/plain": [
       "[1] 1.0 1.5 2.0 2.5 3.0"
      ]
     },
     "metadata": {},
     "output_type": "display_data"
    },
    {
     "data": {
      "text/html": [
       "<ol class=list-inline>\n",
       "\t<li>1</li>\n",
       "\t<li>1.5</li>\n",
       "\t<li>2</li>\n",
       "\t<li>2.5</li>\n",
       "\t<li>3</li>\n",
       "</ol>\n"
      ],
      "text/latex": [
       "\\begin{enumerate*}\n",
       "\\item 1\n",
       "\\item 1.5\n",
       "\\item 2\n",
       "\\item 2.5\n",
       "\\item 3\n",
       "\\end{enumerate*}\n"
      ],
      "text/markdown": [
       "1. 1\n",
       "2. 1.5\n",
       "3. 2\n",
       "4. 2.5\n",
       "5. 3\n",
       "\n",
       "\n"
      ],
      "text/plain": [
       "[1] 1.0 1.5 2.0 2.5 3.0"
      ]
     },
     "metadata": {},
     "output_type": "display_data"
    }
   ],
   "source": [
    "# introduisons les arguments `by' et `len`\n",
    "seq(1,3,by=0.5)  # création d'une séquence de 1 à 3 avec un pas de 0.5\n",
    "seq(1,3, len=5) # création d'une séquence de 1 à 2 de longueur 10"
   ]
  },
  {
   "cell_type": "code",
   "execution_count": 7,
   "metadata": {},
   "outputs": [
    {
     "data": {
      "text/html": [
       "<ol class=list-inline>\n",
       "\t<li>5</li>\n",
       "\t<li>5</li>\n",
       "\t<li>5</li>\n",
       "\t<li>5</li>\n",
       "\t<li>5</li>\n",
       "</ol>\n"
      ],
      "text/latex": [
       "\\begin{enumerate*}\n",
       "\\item 5\n",
       "\\item 5\n",
       "\\item 5\n",
       "\\item 5\n",
       "\\item 5\n",
       "\\end{enumerate*}\n"
      ],
      "text/markdown": [
       "1. 5\n",
       "2. 5\n",
       "3. 5\n",
       "4. 5\n",
       "5. 5\n",
       "\n",
       "\n"
      ],
      "text/plain": [
       "[1] 5 5 5 5 5"
      ]
     },
     "metadata": {},
     "output_type": "display_data"
    }
   ],
   "source": [
    "# vecteur contenant des répétitions\n",
    "rep(5,times=5)"
   ]
  },
  {
   "cell_type": "code",
   "execution_count": 5,
   "metadata": {},
   "outputs": [
    {
     "data": {
      "text/html": [
       "<ol class=list-inline>\n",
       "\t<li>1</li>\n",
       "\t<li>2</li>\n",
       "\t<li>1</li>\n",
       "\t<li>2</li>\n",
       "\t<li>1</li>\n",
       "\t<li>2</li>\n",
       "\t<li>1</li>\n",
       "\t<li>2</li>\n",
       "\t<li>1</li>\n",
       "\t<li>2</li>\n",
       "\t<li>1</li>\n",
       "\t<li>2</li>\n",
       "</ol>\n"
      ],
      "text/latex": [
       "\\begin{enumerate*}\n",
       "\\item 1\n",
       "\\item 2\n",
       "\\item 1\n",
       "\\item 2\n",
       "\\item 1\n",
       "\\item 2\n",
       "\\item 1\n",
       "\\item 2\n",
       "\\item 1\n",
       "\\item 2\n",
       "\\item 1\n",
       "\\item 2\n",
       "\\end{enumerate*}\n"
      ],
      "text/markdown": [
       "1. 1\n",
       "2. 2\n",
       "3. 1\n",
       "4. 2\n",
       "5. 1\n",
       "6. 2\n",
       "7. 1\n",
       "8. 2\n",
       "9. 1\n",
       "10. 2\n",
       "11. 1\n",
       "12. 2\n",
       "\n",
       "\n"
      ],
      "text/plain": [
       " [1] 1 2 1 2 1 2 1 2 1 2 1 2"
      ]
     },
     "metadata": {},
     "output_type": "display_data"
    }
   ],
   "source": [
    "rep(c(1,2),6) # répéter (1,2) 6 fois."
   ]
  },
  {
   "cell_type": "code",
   "execution_count": 8,
   "metadata": {},
   "outputs": [
    {
     "data": {
      "text/html": [
       "<ol class=list-inline>\n",
       "\t<li>1</li>\n",
       "\t<li>1</li>\n",
       "\t<li>1</li>\n",
       "\t<li>2</li>\n",
       "\t<li>2</li>\n",
       "\t<li>2</li>\n",
       "</ol>\n"
      ],
      "text/latex": [
       "\\begin{enumerate*}\n",
       "\\item 1\n",
       "\\item 1\n",
       "\\item 1\n",
       "\\item 2\n",
       "\\item 2\n",
       "\\item 2\n",
       "\\end{enumerate*}\n"
      ],
      "text/markdown": [
       "1. 1\n",
       "2. 1\n",
       "3. 1\n",
       "4. 2\n",
       "5. 2\n",
       "6. 2\n",
       "\n",
       "\n"
      ],
      "text/plain": [
       "[1] 1 1 1 2 2 2"
      ]
     },
     "metadata": {},
     "output_type": "display_data"
    }
   ],
   "source": [
    "rep(c(1,2),each=3) # répéter chaque éléments du vecteur (1,2) 3 fois"
   ]
  },
  {
   "cell_type": "code",
   "execution_count": 9,
   "metadata": {},
   "outputs": [
    {
     "data": {
      "text/html": [
       "<ol class=list-inline>\n",
       "\t<li>1</li>\n",
       "\t<li>1</li>\n",
       "\t<li>1</li>\n",
       "\t<li>2</li>\n",
       "\t<li>2</li>\n",
       "\t<li>2</li>\n",
       "\t<li>1</li>\n",
       "\t<li>1</li>\n",
       "\t<li>1</li>\n",
       "\t<li>2</li>\n",
       "</ol>\n"
      ],
      "text/latex": [
       "\\begin{enumerate*}\n",
       "\\item 1\n",
       "\\item 1\n",
       "\\item 1\n",
       "\\item 2\n",
       "\\item 2\n",
       "\\item 2\n",
       "\\item 1\n",
       "\\item 1\n",
       "\\item 1\n",
       "\\item 2\n",
       "\\end{enumerate*}\n"
      ],
      "text/markdown": [
       "1. 1\n",
       "2. 1\n",
       "3. 1\n",
       "4. 2\n",
       "5. 2\n",
       "6. 2\n",
       "7. 1\n",
       "8. 1\n",
       "9. 1\n",
       "10. 2\n",
       "\n",
       "\n"
      ],
      "text/plain": [
       " [1] 1 1 1 2 2 2 1 1 1 2"
      ]
     },
     "metadata": {},
     "output_type": "display_data"
    }
   ],
   "source": [
    "rep(c(1,2),each=3,len=10)"
   ]
  },
  {
   "cell_type": "markdown",
   "metadata": {},
   "source": [
    "## Indexation et accés"
   ]
  },
  {
   "cell_type": "code",
   "execution_count": 9,
   "metadata": {},
   "outputs": [
    {
     "data": {
      "text/html": [
       "<ol class=list-inline>\n",
       "\t<li>1</li>\n",
       "\t<li>1.28571428571429</li>\n",
       "\t<li>1.57142857142857</li>\n",
       "\t<li>1.85714285714286</li>\n",
       "\t<li>2.14285714285714</li>\n",
       "\t<li>2.42857142857143</li>\n",
       "\t<li>2.71428571428571</li>\n",
       "\t<li>3</li>\n",
       "\t<li>3.28571428571429</li>\n",
       "\t<li>3.57142857142857</li>\n",
       "\t<li>3.85714285714286</li>\n",
       "\t<li>4.14285714285714</li>\n",
       "\t<li>4.42857142857143</li>\n",
       "\t<li>4.71428571428571</li>\n",
       "\t<li>5</li>\n",
       "</ol>\n"
      ],
      "text/latex": [
       "\\begin{enumerate*}\n",
       "\\item 1\n",
       "\\item 1.28571428571429\n",
       "\\item 1.57142857142857\n",
       "\\item 1.85714285714286\n",
       "\\item 2.14285714285714\n",
       "\\item 2.42857142857143\n",
       "\\item 2.71428571428571\n",
       "\\item 3\n",
       "\\item 3.28571428571429\n",
       "\\item 3.57142857142857\n",
       "\\item 3.85714285714286\n",
       "\\item 4.14285714285714\n",
       "\\item 4.42857142857143\n",
       "\\item 4.71428571428571\n",
       "\\item 5\n",
       "\\end{enumerate*}\n"
      ],
      "text/markdown": [
       "1. 1\n",
       "2. 1.28571428571429\n",
       "3. 1.57142857142857\n",
       "4. 1.85714285714286\n",
       "5. 2.14285714285714\n",
       "6. 2.42857142857143\n",
       "7. 2.71428571428571\n",
       "8. 3\n",
       "9. 3.28571428571429\n",
       "10. 3.57142857142857\n",
       "11. 3.85714285714286\n",
       "12. 4.14285714285714\n",
       "13. 4.42857142857143\n",
       "14. 4.71428571428571\n",
       "15. 5\n",
       "\n",
       "\n"
      ],
      "text/plain": [
       " [1] 1.000000 1.285714 1.571429 1.857143 2.142857 2.428571 2.714286 3.000000\n",
       " [9] 3.285714 3.571429 3.857143 4.142857 4.428571 4.714286 5.000000"
      ]
     },
     "metadata": {},
     "output_type": "display_data"
    }
   ],
   "source": [
    "# indexation\n",
    "x=seq(1,5,len=15)\n",
    "x"
   ]
  },
  {
   "cell_type": "code",
   "execution_count": 10,
   "metadata": {},
   "outputs": [
    {
     "data": {
      "text/html": [
       "2.14285714285714"
      ],
      "text/latex": [
       "2.14285714285714"
      ],
      "text/markdown": [
       "2.14285714285714"
      ],
      "text/plain": [
       "[1] 2.142857"
      ]
     },
     "metadata": {},
     "output_type": "display_data"
    },
    {
     "data": {
      "text/html": [
       "<ol class=list-inline>\n",
       "\t<li>1</li>\n",
       "\t<li>1.28571428571429</li>\n",
       "\t<li>1.57142857142857</li>\n",
       "\t<li>2.14285714285714</li>\n",
       "\t<li>2.42857142857143</li>\n",
       "\t<li>2.71428571428571</li>\n",
       "\t<li>3</li>\n",
       "\t<li>3.28571428571429</li>\n",
       "\t<li>3.57142857142857</li>\n",
       "\t<li>3.85714285714286</li>\n",
       "\t<li>4.14285714285714</li>\n",
       "\t<li>4.42857142857143</li>\n",
       "\t<li>4.71428571428571</li>\n",
       "\t<li>5</li>\n",
       "</ol>\n"
      ],
      "text/latex": [
       "\\begin{enumerate*}\n",
       "\\item 1\n",
       "\\item 1.28571428571429\n",
       "\\item 1.57142857142857\n",
       "\\item 2.14285714285714\n",
       "\\item 2.42857142857143\n",
       "\\item 2.71428571428571\n",
       "\\item 3\n",
       "\\item 3.28571428571429\n",
       "\\item 3.57142857142857\n",
       "\\item 3.85714285714286\n",
       "\\item 4.14285714285714\n",
       "\\item 4.42857142857143\n",
       "\\item 4.71428571428571\n",
       "\\item 5\n",
       "\\end{enumerate*}\n"
      ],
      "text/markdown": [
       "1. 1\n",
       "2. 1.28571428571429\n",
       "3. 1.57142857142857\n",
       "4. 2.14285714285714\n",
       "5. 2.42857142857143\n",
       "6. 2.71428571428571\n",
       "7. 3\n",
       "8. 3.28571428571429\n",
       "9. 3.57142857142857\n",
       "10. 3.85714285714286\n",
       "11. 4.14285714285714\n",
       "12. 4.42857142857143\n",
       "13. 4.71428571428571\n",
       "14. 5\n",
       "\n",
       "\n"
      ],
      "text/plain": [
       " [1] 1.000000 1.285714 1.571429 2.142857 2.428571 2.714286 3.000000 3.285714\n",
       " [9] 3.571429 3.857143 4.142857 4.428571 4.714286 5.000000"
      ]
     },
     "metadata": {},
     "output_type": "display_data"
    },
    {
     "data": {
      "text/html": [
       "<ol class=list-inline>\n",
       "\t<li>1.28571428571429</li>\n",
       "\t<li>1.57142857142857</li>\n",
       "\t<li>1.85714285714286</li>\n",
       "\t<li>2.14285714285714</li>\n",
       "\t<li>2.42857142857143</li>\n",
       "\t<li>2.71428571428571</li>\n",
       "\t<li>3</li>\n",
       "\t<li>3.28571428571429</li>\n",
       "\t<li>3.57142857142857</li>\n",
       "\t<li>3.85714285714286</li>\n",
       "\t<li>4.14285714285714</li>\n",
       "\t<li>4.42857142857143</li>\n",
       "\t<li>4.71428571428571</li>\n",
       "\t<li>5</li>\n",
       "</ol>\n"
      ],
      "text/latex": [
       "\\begin{enumerate*}\n",
       "\\item 1.28571428571429\n",
       "\\item 1.57142857142857\n",
       "\\item 1.85714285714286\n",
       "\\item 2.14285714285714\n",
       "\\item 2.42857142857143\n",
       "\\item 2.71428571428571\n",
       "\\item 3\n",
       "\\item 3.28571428571429\n",
       "\\item 3.57142857142857\n",
       "\\item 3.85714285714286\n",
       "\\item 4.14285714285714\n",
       "\\item 4.42857142857143\n",
       "\\item 4.71428571428571\n",
       "\\item 5\n",
       "\\end{enumerate*}\n"
      ],
      "text/markdown": [
       "1. 1.28571428571429\n",
       "2. 1.57142857142857\n",
       "3. 1.85714285714286\n",
       "4. 2.14285714285714\n",
       "5. 2.42857142857143\n",
       "6. 2.71428571428571\n",
       "7. 3\n",
       "8. 3.28571428571429\n",
       "9. 3.57142857142857\n",
       "10. 3.85714285714286\n",
       "11. 4.14285714285714\n",
       "12. 4.42857142857143\n",
       "13. 4.71428571428571\n",
       "14. 5\n",
       "\n",
       "\n"
      ],
      "text/plain": [
       " [1] 1.285714 1.571429 1.857143 2.142857 2.428571 2.714286 3.000000 3.285714\n",
       " [9] 3.571429 3.857143 4.142857 4.428571 4.714286 5.000000"
      ]
     },
     "metadata": {},
     "output_type": "display_data"
    }
   ],
   "source": [
    "x[5] # extraction de la 5ième valeur\n",
    "x[-4] # éliminer la valeur du 4ième index\n",
    "x[x>=1.2] # extraire les valeurs >= à 1.2"
   ]
  },
  {
   "cell_type": "code",
   "execution_count": 16,
   "metadata": {},
   "outputs": [
    {
     "data": {
      "text/html": [
       "<ol class=list-inline>\n",
       "\t<li>1</li>\n",
       "\t<li>1.28571428571429</li>\n",
       "\t<li>1.57142857142857</li>\n",
       "\t<li>1.85714285714286</li>\n",
       "</ol>\n"
      ],
      "text/latex": [
       "\\begin{enumerate*}\n",
       "\\item 1\n",
       "\\item 1.28571428571429\n",
       "\\item 1.57142857142857\n",
       "\\item 1.85714285714286\n",
       "\\end{enumerate*}\n"
      ],
      "text/markdown": [
       "1. 1\n",
       "2. 1.28571428571429\n",
       "3. 1.57142857142857\n",
       "4. 1.85714285714286\n",
       "\n",
       "\n"
      ],
      "text/plain": [
       "[1] 1.000000 1.285714 1.571429 1.857143"
      ]
     },
     "metadata": {},
     "output_type": "display_data"
    },
    {
     "data": {
      "text/html": [
       "<ol class=list-inline>\n",
       "\t<li>1.28571428571429</li>\n",
       "\t<li>1.57142857142857</li>\n",
       "\t<li>1.85714285714286</li>\n",
       "\t<li>2.42857142857143</li>\n",
       "\t<li>2.71428571428571</li>\n",
       "\t<li>3</li>\n",
       "\t<li>3.28571428571429</li>\n",
       "\t<li>3.57142857142857</li>\n",
       "\t<li>3.85714285714286</li>\n",
       "\t<li>4.14285714285714</li>\n",
       "\t<li>4.42857142857143</li>\n",
       "\t<li>4.71428571428571</li>\n",
       "\t<li>5</li>\n",
       "</ol>\n"
      ],
      "text/latex": [
       "\\begin{enumerate*}\n",
       "\\item 1.28571428571429\n",
       "\\item 1.57142857142857\n",
       "\\item 1.85714285714286\n",
       "\\item 2.42857142857143\n",
       "\\item 2.71428571428571\n",
       "\\item 3\n",
       "\\item 3.28571428571429\n",
       "\\item 3.57142857142857\n",
       "\\item 3.85714285714286\n",
       "\\item 4.14285714285714\n",
       "\\item 4.42857142857143\n",
       "\\item 4.71428571428571\n",
       "\\item 5\n",
       "\\end{enumerate*}\n"
      ],
      "text/markdown": [
       "1. 1.28571428571429\n",
       "2. 1.57142857142857\n",
       "3. 1.85714285714286\n",
       "4. 2.42857142857143\n",
       "5. 2.71428571428571\n",
       "6. 3\n",
       "7. 3.28571428571429\n",
       "8. 3.57142857142857\n",
       "9. 3.85714285714286\n",
       "10. 4.14285714285714\n",
       "11. 4.42857142857143\n",
       "12. 4.71428571428571\n",
       "13. 5\n",
       "\n",
       "\n"
      ],
      "text/plain": [
       " [1] 1.285714 1.571429 1.857143 2.428571 2.714286 3.000000 3.285714 3.571429\n",
       " [9] 3.857143 4.142857 4.428571 4.714286 5.000000"
      ]
     },
     "metadata": {},
     "output_type": "display_data"
    }
   ],
   "source": [
    "x[1:4]      # extraire les éléments de x de la première position à la 4ième.\n",
    "x[-c(1,5)]  # afficher toutes les valeurs de x suaf la 1ière et la 5ième valeur."
   ]
  },
  {
   "cell_type": "markdown",
   "metadata": {},
   "source": [
    "## Statistiques élémentaires"
   ]
  },
  {
   "cell_type": "code",
   "execution_count": 11,
   "metadata": {},
   "outputs": [
    {
     "data": {
      "text/html": [
       "15"
      ],
      "text/latex": [
       "15"
      ],
      "text/markdown": [
       "15"
      ],
      "text/plain": [
       "[1] 15"
      ]
     },
     "metadata": {},
     "output_type": "display_data"
    }
   ],
   "source": [
    "# la longueur d'un vecteur est obtenu à l'aide de la fonction length\n",
    "length(x)"
   ]
  },
  {
   "cell_type": "code",
   "execution_count": 12,
   "metadata": {},
   "outputs": [
    {
     "data": {
      "text/html": [
       "5"
      ],
      "text/latex": [
       "5"
      ],
      "text/markdown": [
       "5"
      ],
      "text/plain": [
       "[1] 5"
      ]
     },
     "metadata": {},
     "output_type": "display_data"
    }
   ],
   "source": [
    "# maximum\n",
    "max(x)"
   ]
  },
  {
   "cell_type": "code",
   "execution_count": 13,
   "metadata": {},
   "outputs": [
    {
     "data": {
      "text/html": [
       "1"
      ],
      "text/latex": [
       "1"
      ],
      "text/markdown": [
       "1"
      ],
      "text/plain": [
       "[1] 1"
      ]
     },
     "metadata": {},
     "output_type": "display_data"
    },
    {
     "data": {
      "text/html": [
       "45"
      ],
      "text/latex": [
       "45"
      ],
      "text/markdown": [
       "45"
      ],
      "text/plain": [
       "[1] 45"
      ]
     },
     "metadata": {},
     "output_type": "display_data"
    },
    {
     "data": {
      "text/html": [
       "<ol class=list-inline>\n",
       "\t<li>1</li>\n",
       "\t<li>2.28571428571429</li>\n",
       "\t<li>3.85714285714286</li>\n",
       "\t<li>5.71428571428571</li>\n",
       "\t<li>7.85714285714286</li>\n",
       "\t<li>10.2857142857143</li>\n",
       "\t<li>13</li>\n",
       "\t<li>16</li>\n",
       "\t<li>19.2857142857143</li>\n",
       "\t<li>22.8571428571429</li>\n",
       "\t<li>26.7142857142857</li>\n",
       "\t<li>30.8571428571429</li>\n",
       "\t<li>35.2857142857143</li>\n",
       "\t<li>40</li>\n",
       "\t<li>45</li>\n",
       "</ol>\n"
      ],
      "text/latex": [
       "\\begin{enumerate*}\n",
       "\\item 1\n",
       "\\item 2.28571428571429\n",
       "\\item 3.85714285714286\n",
       "\\item 5.71428571428571\n",
       "\\item 7.85714285714286\n",
       "\\item 10.2857142857143\n",
       "\\item 13\n",
       "\\item 16\n",
       "\\item 19.2857142857143\n",
       "\\item 22.8571428571429\n",
       "\\item 26.7142857142857\n",
       "\\item 30.8571428571429\n",
       "\\item 35.2857142857143\n",
       "\\item 40\n",
       "\\item 45\n",
       "\\end{enumerate*}\n"
      ],
      "text/markdown": [
       "1. 1\n",
       "2. 2.28571428571429\n",
       "3. 3.85714285714286\n",
       "4. 5.71428571428571\n",
       "5. 7.85714285714286\n",
       "6. 10.2857142857143\n",
       "7. 13\n",
       "8. 16\n",
       "9. 19.2857142857143\n",
       "10. 22.8571428571429\n",
       "11. 26.7142857142857\n",
       "12. 30.8571428571429\n",
       "13. 35.2857142857143\n",
       "14. 40\n",
       "15. 45\n",
       "\n",
       "\n"
      ],
      "text/plain": [
       " [1]  1.000000  2.285714  3.857143  5.714286  7.857143 10.285714 13.000000\n",
       " [8] 16.000000 19.285714 22.857143 26.714286 30.857143 35.285714 40.000000\n",
       "[15] 45.000000"
      ]
     },
     "metadata": {},
     "output_type": "display_data"
    },
    {
     "data": {
      "text/html": [
       "3112378.07749661"
      ],
      "text/latex": [
       "3112378.07749661"
      ],
      "text/markdown": [
       "3112378.07749661"
      ],
      "text/plain": [
       "[1] 3112378"
      ]
     },
     "metadata": {},
     "output_type": "display_data"
    },
    {
     "data": {
      "text/html": [
       "<ol class=list-inline>\n",
       "\t<li>1</li>\n",
       "\t<li>1.28571428571429</li>\n",
       "\t<li>2.02040816326531</li>\n",
       "\t<li>3.75218658892128</li>\n",
       "\t<li>8.04039983340275</li>\n",
       "\t<li>19.5266853096924</li>\n",
       "\t<li>53.0010029834508</li>\n",
       "\t<li>159.003008950352</li>\n",
       "\t<li>522.438457979729</li>\n",
       "\t<li>1865.85163564189</li>\n",
       "\t<li>7196.85630890443</li>\n",
       "\t<li>29815.5475654612</li>\n",
       "\t<li>132040.282075614</li>\n",
       "\t<li>622475.615499323</li>\n",
       "\t<li>3112378.07749661</li>\n",
       "</ol>\n"
      ],
      "text/latex": [
       "\\begin{enumerate*}\n",
       "\\item 1\n",
       "\\item 1.28571428571429\n",
       "\\item 2.02040816326531\n",
       "\\item 3.75218658892128\n",
       "\\item 8.04039983340275\n",
       "\\item 19.5266853096924\n",
       "\\item 53.0010029834508\n",
       "\\item 159.003008950352\n",
       "\\item 522.438457979729\n",
       "\\item 1865.85163564189\n",
       "\\item 7196.85630890443\n",
       "\\item 29815.5475654612\n",
       "\\item 132040.282075614\n",
       "\\item 622475.615499323\n",
       "\\item 3112378.07749661\n",
       "\\end{enumerate*}\n"
      ],
      "text/markdown": [
       "1. 1\n",
       "2. 1.28571428571429\n",
       "3. 2.02040816326531\n",
       "4. 3.75218658892128\n",
       "5. 8.04039983340275\n",
       "6. 19.5266853096924\n",
       "7. 53.0010029834508\n",
       "8. 159.003008950352\n",
       "9. 522.438457979729\n",
       "10. 1865.85163564189\n",
       "11. 7196.85630890443\n",
       "12. 29815.5475654612\n",
       "13. 132040.282075614\n",
       "14. 622475.615499323\n",
       "15. 3112378.07749661\n",
       "\n",
       "\n"
      ],
      "text/plain": [
       " [1] 1.000000e+00 1.285714e+00 2.020408e+00 3.752187e+00 8.040400e+00\n",
       " [6] 1.952669e+01 5.300100e+01 1.590030e+02 5.224385e+02 1.865852e+03\n",
       "[11] 7.196856e+03 2.981555e+04 1.320403e+05 6.224756e+05 3.112378e+06"
      ]
     },
     "metadata": {},
     "output_type": "display_data"
    }
   ],
   "source": [
    "min(x)\n",
    "sum(x) # la somme des val de x\n",
    "cumsum(x) # la somme cumulée\n",
    "prod(x) # produit des val de x\n",
    "cumprod(x) # produit cumulé"
   ]
  },
  {
   "cell_type": "code",
   "execution_count": 15,
   "metadata": {},
   "outputs": [
    {
     "data": {
      "text/html": [
       "1"
      ],
      "text/latex": [
       "1"
      ],
      "text/markdown": [
       "1"
      ],
      "text/plain": [
       "[1] 1"
      ]
     },
     "metadata": {},
     "output_type": "display_data"
    },
    {
     "data": {
      "text/html": [
       "<ol class=list-inline>\n",
       "\t<li>10</li>\n",
       "\t<li>11</li>\n",
       "\t<li>12</li>\n",
       "\t<li>13</li>\n",
       "\t<li>14</li>\n",
       "\t<li>15</li>\n",
       "</ol>\n"
      ],
      "text/latex": [
       "\\begin{enumerate*}\n",
       "\\item 10\n",
       "\\item 11\n",
       "\\item 12\n",
       "\\item 13\n",
       "\\item 14\n",
       "\\item 15\n",
       "\\end{enumerate*}\n"
      ],
      "text/markdown": [
       "1. 10\n",
       "2. 11\n",
       "3. 12\n",
       "4. 13\n",
       "5. 14\n",
       "6. 15\n",
       "\n",
       "\n"
      ],
      "text/plain": [
       "[1] 10 11 12 13 14 15"
      ]
     },
     "metadata": {},
     "output_type": "display_data"
    }
   ],
   "source": [
    "which.min(x)     # donne la position pour laquelle x est minimale\n",
    "which(x>3.3)  # donne les positions pour lesquelles les valeurs de x sont supèrieur à 3.3"
   ]
  },
  {
   "cell_type": "code",
   "execution_count": 19,
   "metadata": {},
   "outputs": [
    {
     "data": {
      "text/html": [
       "3"
      ],
      "text/latex": [
       "3"
      ],
      "text/markdown": [
       "3"
      ],
      "text/plain": [
       "[1] 3"
      ]
     },
     "metadata": {},
     "output_type": "display_data"
    }
   ],
   "source": [
    "# la moyenne empirique\n",
    "mean(x)"
   ]
  },
  {
   "cell_type": "code",
   "execution_count": 20,
   "metadata": {},
   "outputs": [
    {
     "data": {
      "text/html": [
       "<ol class=list-inline>\n",
       "\t<li>3</li>\n",
       "\t<li>3.85714285714286</li>\n",
       "\t<li>4.71428571428571</li>\n",
       "\t<li>5.57142857142857</li>\n",
       "\t<li>6.42857142857143</li>\n",
       "\t<li>7.28571428571428</li>\n",
       "\t<li>8.14285714285714</li>\n",
       "\t<li>9</li>\n",
       "\t<li>9.85714285714286</li>\n",
       "\t<li>10.7142857142857</li>\n",
       "\t<li>11.5714285714286</li>\n",
       "\t<li>12.4285714285714</li>\n",
       "\t<li>13.2857142857143</li>\n",
       "\t<li>14.1428571428571</li>\n",
       "\t<li>15</li>\n",
       "</ol>\n"
      ],
      "text/latex": [
       "\\begin{enumerate*}\n",
       "\\item 3\n",
       "\\item 3.85714285714286\n",
       "\\item 4.71428571428571\n",
       "\\item 5.57142857142857\n",
       "\\item 6.42857142857143\n",
       "\\item 7.28571428571428\n",
       "\\item 8.14285714285714\n",
       "\\item 9\n",
       "\\item 9.85714285714286\n",
       "\\item 10.7142857142857\n",
       "\\item 11.5714285714286\n",
       "\\item 12.4285714285714\n",
       "\\item 13.2857142857143\n",
       "\\item 14.1428571428571\n",
       "\\item 15\n",
       "\\end{enumerate*}\n"
      ],
      "text/markdown": [
       "1. 3\n",
       "2. 3.85714285714286\n",
       "3. 4.71428571428571\n",
       "4. 5.57142857142857\n",
       "5. 6.42857142857143\n",
       "6. 7.28571428571428\n",
       "7. 8.14285714285714\n",
       "8. 9\n",
       "9. 9.85714285714286\n",
       "10. 10.7142857142857\n",
       "11. 11.5714285714286\n",
       "12. 12.4285714285714\n",
       "13. 13.2857142857143\n",
       "14. 14.1428571428571\n",
       "15. 15\n",
       "\n",
       "\n"
      ],
      "text/plain": [
       " [1]  3.000000  3.857143  4.714286  5.571429  6.428571  7.285714  8.142857\n",
       " [8]  9.000000  9.857143 10.714286 11.571429 12.428571 13.285714 14.142857\n",
       "[15] 15.000000"
      ]
     },
     "metadata": {},
     "output_type": "display_data"
    }
   ],
   "source": [
    "# multiplication d'un vecteur par un scalaire\n",
    "3*x"
   ]
  },
  {
   "cell_type": "code",
   "execution_count": 21,
   "metadata": {},
   "outputs": [
    {
     "data": {
      "text/html": [
       "<table>\n",
       "<tbody>\n",
       "\t<tr><td>157.8571</td></tr>\n",
       "</tbody>\n",
       "</table>\n"
      ],
      "text/latex": [
       "\\begin{tabular}{l}\n",
       "\t 157.8571\\\\\n",
       "\\end{tabular}\n"
      ],
      "text/markdown": [
       "\n",
       "| 157.8571 | \n",
       "\n",
       "\n"
      ],
      "text/plain": [
       "     [,1]    \n",
       "[1,] 157.8571"
      ]
     },
     "metadata": {},
     "output_type": "display_data"
    },
    {
     "data": {
      "text/html": [
       "<table>\n",
       "<tbody>\n",
       "\t<tr><td>157.8571</td></tr>\n",
       "</tbody>\n",
       "</table>\n"
      ],
      "text/latex": [
       "\\begin{tabular}{l}\n",
       "\t 157.8571\\\\\n",
       "\\end{tabular}\n"
      ],
      "text/markdown": [
       "\n",
       "| 157.8571 | \n",
       "\n",
       "\n"
      ],
      "text/plain": [
       "     [,1]    \n",
       "[1,] 157.8571"
      ]
     },
     "metadata": {},
     "output_type": "display_data"
    }
   ],
   "source": [
    "# x'x produit scalaire\n",
    "crossprod(x)\n",
    "# ou encore\n",
    "t(x)%*%x"
   ]
  }
 ],
 "metadata": {
  "kernelspec": {
   "display_name": "R",
   "language": "R",
   "name": "ir"
  },
  "language_info": {
   "codemirror_mode": "r",
   "file_extension": ".r",
   "mimetype": "text/x-r-source",
   "name": "R",
   "pygments_lexer": "r",
   "version": "3.4.3"
  }
 },
 "nbformat": 4,
 "nbformat_minor": 2
}
